{
  "nbformat": 4,
  "nbformat_minor": 0,
  "metadata": {
    "colab": {
      "provenance": [],
      "authorship_tag": "ABX9TyNQ497/zUkD5HJ9V2D1isga",
      "include_colab_link": true
    },
    "kernelspec": {
      "name": "python3",
      "display_name": "Python 3"
    },
    "language_info": {
      "name": "python"
    }
  },
  "cells": [
    {
      "cell_type": "markdown",
      "metadata": {
        "id": "view-in-github",
        "colab_type": "text"
      },
      "source": [
        "<a href=\"https://colab.research.google.com/github/DafhtineSantos/58002-OOP/blob/main/OOP_Concepts.ipynb\" target=\"_parent\"><img src=\"https://colab.research.google.com/assets/colab-badge.svg\" alt=\"Open In Colab\"/></a>"
      ]
    },
    {
      "cell_type": "code",
      "execution_count": 1,
      "metadata": {
        "colab": {
          "base_uri": "https://localhost:8080/"
        },
        "id": "cmPwuxr7WK5R",
        "outputId": "4ffe7801-23c9-4e5d-e279-c37692576c5e"
      },
      "outputs": [
        {
          "output_type": "stream",
          "name": "stdout",
          "text": [
            "The area of the square is 25\n"
          ]
        }
      ],
      "source": [
        "class Shapes:\n",
        "  def __init__(self,side):\n",
        "    self.side = side\n",
        "\n",
        "  def area(self):\n",
        "     return self.side *self.side\n",
        "  \n",
        "  def display(self):\n",
        "    print(\"The area of the square is\",self.area())\n",
        "\n",
        "square = Shapes(5)\n",
        "square.display()"
      ]
    },
    {
      "cell_type": "code",
      "source": [
        "#creation of method\n",
        "class Persons:\n",
        "  def __init__(self,name,age):\n",
        "    self.name = name\n",
        "    self.age = age\n",
        "\n",
        "  def myfunction(self):\n",
        "    print(\"Hello, my name is\", self.name)\n",
        "\n",
        "teacher = Persons(\"Maria\",40)\n",
        "teacher.myfunction()"
      ],
      "metadata": {
        "colab": {
          "base_uri": "https://localhost:8080/"
        },
        "id": "J6IV_vfTX4VA",
        "outputId": "24e2516e-aa73-4bbe-9818-ab15cc87912f"
      },
      "execution_count": 13,
      "outputs": [
        {
          "output_type": "stream",
          "name": "stdout",
          "text": [
            "Hello, my name is Maria\n"
          ]
        }
      ]
    },
    {
      "cell_type": "markdown",
      "source": [
        "With rectangles\n"
      ],
      "metadata": {
        "id": "C6MnQ6p0YoGr"
      }
    },
    {
      "cell_type": "code",
      "source": [
        "class Shapes:\n",
        "    def __init__(self, side1, side2=None):\n",
        "        self.side1 = side1\n",
        "        self.side2 = side2\n",
        "\n",
        "    def area(self):\n",
        "        if self.side2 is None:  # Square\n",
        "            return self.side1 ** 2\n",
        "        else:  # Rectangle\n",
        "            return self.side1 * self.side2\n",
        "\n",
        "    def display(self):\n",
        "        if self.side2 is None:\n",
        "            print(\"The area of the square is\", self.area())\n",
        "        else:\n",
        "            print(\"The area of the rectangle is\", self.area())\n",
        "\n",
        "\n",
        "square = Shapes(5)\n",
        "rectangle = Shapes(5,10)\n",
        "\n",
        "square.display()  \n",
        "rectangle.display()"
      ],
      "metadata": {
        "colab": {
          "base_uri": "https://localhost:8080/"
        },
        "id": "lA3WhlqEYqUW",
        "outputId": "c0038f36-486d-489e-cf75-d9739b662aa7"
      },
      "execution_count": 18,
      "outputs": [
        {
          "output_type": "stream",
          "name": "stdout",
          "text": [
            "The area of the square is 25\n",
            "The area of the rectangle is 50\n"
          ]
        }
      ]
    },
    {
      "cell_type": "markdown",
      "source": [
        "\n",
        "Using inheritance\n"
      ],
      "metadata": {
        "id": "4GzPXXXQYuMQ"
      }
    },
    {
      "cell_type": "code",
      "source": [
        "class Shape:\n",
        "    def __init__(self, *sides):\n",
        "        self.sides = sides\n",
        "\n",
        "    def area(self):\n",
        "        pass  # To be implemented by subclasses\n",
        "\n",
        "    def display(self):\n",
        "        pass  # To be implemented by subclasses\n",
        "\n",
        "\n",
        "class Square(Shape):\n",
        "    def __init__(self, side):\n",
        "        super().__init__(side)\n",
        "\n",
        "    def area(self):\n",
        "        return self.sides[0] ** 2\n",
        "\n",
        "    def display(self):\n",
        "        print(\"The area of the square is\", self.area())\n",
        "\n",
        "\n",
        "class Rectangle(Shape):\n",
        "    def __init__(self, length, width):\n",
        "        super().__init__(length, width)\n",
        "\n",
        "    def area(self):\n",
        "        return self.sides[0] * self.sides[1]\n",
        "\n",
        "    def display(self):\n",
        "        print(\"The area of the rectangle is\", self.area())\n",
        "\n",
        "\n",
        "square = Square(5)\n",
        "rectangle = Rectangle(5, 10)\n",
        "\n",
        "square.display()  # Output: The area of the square is 25\n",
        "rectangle.display()  # Output: The area of the rectangle is 50\n"
      ],
      "metadata": {
        "colab": {
          "base_uri": "https://localhost:8080/"
        },
        "id": "In3e44CeYt6M",
        "outputId": "403fe910-1ce9-4445-eb31-21b87f01ab6d"
      },
      "execution_count": 15,
      "outputs": [
        {
          "output_type": "stream",
          "name": "stdout",
          "text": [
            "The area of the square is 25\n",
            "The area of the rectangle is 50\n"
          ]
        }
      ]
    },
    {
      "cell_type": "code",
      "source": [
        "class Person:\n",
        "    def __init__(self, name, age, school):\n",
        "        self.name = name\n",
        "        self.age = age\n",
        "        self.school = school\n",
        "\n",
        "    def identity(self):\n",
        "        print(\"Full name:\", self.name)\n",
        "        print(\"Age:\", self.age)\n",
        "        print(\"School:\", self.school)\n",
        "\n",
        "\n",
        "person = Person(\"Dafhtine Jofer Santos\", 20, \"Adamson University\")\n",
        "person.identity()"
      ],
      "metadata": {
        "colab": {
          "base_uri": "https://localhost:8080/"
        },
        "id": "cjmgbxBOZObz",
        "outputId": "8d0f3564-7d41-4d7d-c90e-3635b1082b9e"
      },
      "execution_count": 14,
      "outputs": [
        {
          "output_type": "stream",
          "name": "stdout",
          "text": [
            "Full name: Dafhtine Jofer Santos\n",
            "Age: 20\n",
            "School: Adamson University\n"
          ]
        }
      ]
    }
  ]
}