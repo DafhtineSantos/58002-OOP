{
  "nbformat": 4,
  "nbformat_minor": 0,
  "metadata": {
    "colab": {
      "provenance": [],
      "authorship_tag": "ABX9TyOeZVd7QMv+Hh7fTQtOZECU",
      "include_colab_link": true
    },
    "kernelspec": {
      "name": "python3",
      "display_name": "Python 3"
    },
    "language_info": {
      "name": "python"
    }
  },
  "cells": [
    {
      "cell_type": "markdown",
      "metadata": {
        "id": "view-in-github",
        "colab_type": "text"
      },
      "source": [
        "<a href=\"https://colab.research.google.com/github/DafhtineSantos/58002-OOP/blob/main/Control_Structures.ipynb\" target=\"_parent\"><img src=\"https://colab.research.google.com/assets/colab-badge.svg\" alt=\"Open In Colab\"/></a>"
      ]
    },
    {
      "cell_type": "markdown",
      "source": [
        "if statement"
      ],
      "metadata": {
        "id": "UkF-zdwPk1iR"
      }
    },
    {
      "cell_type": "code",
      "execution_count": null,
      "metadata": {
        "colab": {
          "base_uri": "https://localhost:8080/"
        },
        "id": "alebqWfjksiU",
        "outputId": "3df086fa-01e0-4533-a491-0b1176e14466"
      },
      "outputs": [
        {
          "output_type": "stream",
          "name": "stdout",
          "text": [
            "a is greater than b\n"
          ]
        }
      ],
      "source": [
        "a = 100\n",
        "b = 50\n",
        "if a>b:\n",
        "  print(\"a is greater than b\")\n"
      ]
    },
    {
      "cell_type": "markdown",
      "source": [
        "elif statement"
      ],
      "metadata": {
        "id": "XYwfIzdflSwH"
      }
    },
    {
      "cell_type": "code",
      "source": [
        "a = 100\n",
        "b = 100\n",
        "\n",
        "if a>b:\n",
        "  print(\"a is greater than b\")\n",
        "elif b>a:\n",
        "  print(\"b is greater than a\")\n",
        "else:\n",
        "  print (\"a is equal to b\")"
      ],
      "metadata": {
        "colab": {
          "base_uri": "https://localhost:8080/"
        },
        "id": "VIHMuJ7ilRtw",
        "outputId": "fc458fd6-a3a3-4a1c-f4ae-e80c859bfcf0"
      },
      "execution_count": null,
      "outputs": [
        {
          "output_type": "stream",
          "name": "stdout",
          "text": [
            "a is equal to b\n"
          ]
        }
      ]
    },
    {
      "cell_type": "markdown",
      "source": [
        "short hand if"
      ],
      "metadata": {
        "id": "X5aSdAcsmLro"
      }
    },
    {
      "cell_type": "code",
      "source": [
        "if a==b: print(\"a is uqual to b\")"
      ],
      "metadata": {
        "colab": {
          "base_uri": "https://localhost:8080/"
        },
        "id": "InirJzQRmM0Y",
        "outputId": "7da7123b-2e96-4998-9069-a5c0900b66a8"
      },
      "execution_count": null,
      "outputs": [
        {
          "output_type": "stream",
          "name": "stdout",
          "text": [
            "a is uqual to b\n"
          ]
        }
      ]
    },
    {
      "cell_type": "code",
      "source": [
        "print(\"s>t and t<s\")"
      ],
      "metadata": {
        "colab": {
          "base_uri": "https://localhost:8080/"
        },
        "id": "Bp6OfjhfnOI4",
        "outputId": "299408ac-309b-420c-d2b6-d53d2e520567"
      },
      "execution_count": null,
      "outputs": [
        {
          "output_type": "stream",
          "name": "stdout",
          "text": [
            "s>t and t<s\n"
          ]
        }
      ]
    },
    {
      "cell_type": "markdown",
      "source": [
        "nested if statement"
      ],
      "metadata": {
        "id": "BRHGjGYboyyn"
      }
    },
    {
      "cell_type": "code",
      "source": [
        "x = 41\n",
        "\n",
        "if x>10:\n",
        "  print(\"above 10 \")\n",
        "  if x>20:\n",
        "    print(\"above 20\")\n",
        "  else:\n",
        "    print(\"below 20\")\n",
        "    if x>30:\n",
        "     print(\"above 30\")\n",
        "    else:\n",
        "     print(\"below 30\")\n",
        "else:\n",
        "  print(\"below 10\")\n",
        " \n"
      ],
      "metadata": {
        "colab": {
          "base_uri": "https://localhost:8080/"
        },
        "id": "rZro4Hm8oui_",
        "outputId": "8ee58990-436c-44d4-bfb1-3468097fff4a"
      },
      "execution_count": null,
      "outputs": [
        {
          "output_type": "stream",
          "name": "stdout",
          "text": [
            "above 10 \n",
            "above 20\n"
          ]
        }
      ]
    },
    {
      "cell_type": "markdown",
      "source": [
        "Example 1"
      ],
      "metadata": {
        "id": "G9qZWewfvxe2"
      }
    },
    {
      "cell_type": "code",
      "source": [
        "a = int(input(\"Input your age: \"))\n",
        "\n",
        "if a >= 17:\n",
        "  print(\"You can Vote!\") \n",
        "\n",
        "else:\n",
        "  print(\"You're not allowed to vote\")\n"
      ],
      "metadata": {
        "colab": {
          "base_uri": "https://localhost:8080/"
        },
        "id": "4xqha56Quzuf",
        "outputId": "49102cbe-ab3b-4b01-9c29-1c1a8d435c96"
      },
      "execution_count": 108,
      "outputs": [
        {
          "output_type": "stream",
          "name": "stdout",
          "text": [
            "Input your age: 18\n",
            "You can Vote!\n"
          ]
        }
      ]
    },
    {
      "cell_type": "markdown",
      "source": [
        "Example 2"
      ],
      "metadata": {
        "id": "Pj8bsdr7vzAO"
      }
    },
    {
      "cell_type": "code",
      "source": [
        "a = int(input(\"Enter Number: \"))\n",
        "\n",
        "if a>1:\n",
        "  print(\"POSITIVE\")\n",
        "elif a==0:\n",
        "  print(\"ZERO\")\n",
        "else:\n",
        "  print(\"NEGATIVE\")"
      ],
      "metadata": {
        "id": "T5OesSWrv0He",
        "colab": {
          "base_uri": "https://localhost:8080/"
        },
        "outputId": "84b7b226-ccab-4275-a9f7-1a80c826145f"
      },
      "execution_count": 111,
      "outputs": [
        {
          "output_type": "stream",
          "name": "stdout",
          "text": [
            "Enter Number: -1\n",
            "NEGATIVE\n"
          ]
        }
      ]
    }
  ]
}