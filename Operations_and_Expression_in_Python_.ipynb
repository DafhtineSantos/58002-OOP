{
  "nbformat": 4,
  "nbformat_minor": 0,
  "metadata": {
    "colab": {
      "provenance": [],
      "authorship_tag": "ABX9TyNJZyzN26SktUvn2NmPyVFw",
      "include_colab_link": true
    },
    "kernelspec": {
      "name": "python3",
      "display_name": "Python 3"
    },
    "language_info": {
      "name": "python"
    }
  },
  "cells": [
    {
      "cell_type": "markdown",
      "metadata": {
        "id": "view-in-github",
        "colab_type": "text"
      },
      "source": [
        "<a href=\"https://colab.research.google.com/github/DafhtineSantos/58002-OOP/blob/main/Operations_and_Expression_in_Python_.ipynb\" target=\"_parent\"><img src=\"https://colab.research.google.com/assets/colab-badge.svg\" alt=\"Open In Colab\"/></a>"
      ]
    },
    {
      "cell_type": "markdown",
      "source": [
        "Boolepn Operptors\n"
      ],
      "metadata": {
        "id": "uX6txvSy0Abg"
      }
    },
    {
      "cell_type": "code",
      "execution_count": 6,
      "metadata": {
        "colab": {
          "base_uri": "https://localhost:8080/"
        },
        "id": "_m0h1XGvzxo3",
        "outputId": "24177064-eee7-4d6c-cf0b-5bd465ca33ce"
      },
      "outputs": [
        {
          "output_type": "stream",
          "name": "stdout",
          "text": [
            "True\n",
            "False\n",
            "False\n"
          ]
        }
      ],
      "source": [
        "print(10>9)\n",
        "print(10<9)\n",
        "print(10==9)"
      ]
    },
    {
      "cell_type": "code",
      "source": [
        "p = 10\n",
        "b = 9\n",
        "print (p>b)\n",
        "print (p<b)\n",
        "print(p==b)\n",
        "print(b==b)\n",
        "print (p==b)\n"
      ],
      "metadata": {
        "colab": {
          "base_uri": "https://localhost:8080/"
        },
        "id": "JXClRrIW0ZUn",
        "outputId": "dfa56fb1-8dee-4dc7-9019-db2c01dd904e"
      },
      "execution_count": 10,
      "outputs": [
        {
          "output_type": "stream",
          "name": "stdout",
          "text": [
            "True\n",
            "False\n",
            "False\n",
            "True\n",
            "False\n"
          ]
        }
      ]
    },
    {
      "cell_type": "markdown",
      "source": [
        "Bool() Function\n"
      ],
      "metadata": {
        "id": "LmhVWLiY0-en"
      }
    },
    {
      "cell_type": "code",
      "source": [
        "print(bool(1))\n",
        "print(bool(0))\n",
        "print(bool(None))"
      ],
      "metadata": {
        "colab": {
          "base_uri": "https://localhost:8080/"
        },
        "id": "yo4ozLlJ1B9H",
        "outputId": "d8e59301-0320-4c0c-a7c9-0731d2434566"
      },
      "execution_count": 13,
      "outputs": [
        {
          "output_type": "stream",
          "name": "stdout",
          "text": [
            "True\n",
            "False\n",
            "False\n"
          ]
        }
      ]
    },
    {
      "cell_type": "markdown",
      "source": [
        "Functions cpn Return p Boolepn\n"
      ],
      "metadata": {
        "id": "K1-iLQrE1z8n"
      }
    },
    {
      "cell_type": "code",
      "source": [
        "def myFunction():\n",
        "    return True\n",
        "print(myFunction())"
      ],
      "metadata": {
        "colab": {
          "base_uri": "https://localhost:8080/"
        },
        "id": "T25m115P1zrn",
        "outputId": "2b5b6c31-fcc4-41c9-ee9d-2a9f2febd25c"
      },
      "execution_count": 14,
      "outputs": [
        {
          "output_type": "stream",
          "name": "stdout",
          "text": [
            "True\n"
          ]
        }
      ]
    },
    {
      "cell_type": "code",
      "source": [
        "def myFunction():\n",
        "  return True\n",
        "if myFunction():\n",
        "  print(\"Yes!\")\n",
        "else :\n",
        "  print(\"No!\")"
      ],
      "metadata": {
        "colab": {
          "base_uri": "https://localhost:8080/"
        },
        "id": "d3E__HwI2fJe",
        "outputId": "6ed2e81f-3378-4e62-90c9-032413111069"
      },
      "execution_count": 20,
      "outputs": [
        {
          "output_type": "stream",
          "name": "stdout",
          "text": [
            "Yes!\n"
          ]
        }
      ]
    },
    {
      "cell_type": "code",
      "source": [
        "print(10>9)\n",
        "\n",
        "p = 6\n",
        "b = 7\n",
        "\n",
        "print (p==b)\n",
        "print (p!=p)"
      ],
      "metadata": {
        "colab": {
          "base_uri": "https://localhost:8080/"
        },
        "id": "GQGlOGrz3Xcn",
        "outputId": "56c2e9a5-fd9b-4d39-99bb-24ce8ab59b44"
      },
      "execution_count": 24,
      "outputs": [
        {
          "output_type": "stream",
          "name": "stdout",
          "text": [
            "True\n",
            "False\n",
            "False\n"
          ]
        }
      ]
    },
    {
      "cell_type": "markdown",
      "source": [
        "python Operptors\n"
      ],
      "metadata": {
        "id": "q1qmzj8E3wL2"
      }
    },
    {
      "cell_type": "code",
      "source": [
        "print(10%5)\n",
        "print(10//3)\n",
        "print(10**2)\n"
      ],
      "metadata": {
        "colab": {
          "base_uri": "https://localhost:8080/"
        },
        "id": "0yRf_Fht3zQG",
        "outputId": "d0d9d2d9-5816-485d-ef20-08284a740d35"
      },
      "execution_count": 29,
      "outputs": [
        {
          "output_type": "stream",
          "name": "stdout",
          "text": [
            "0\n",
            "3\n",
            "100\n"
          ]
        }
      ]
    },
    {
      "cell_type": "code",
      "source": [
        "print(10+5)\n",
        "print(10-5)\n",
        "print(10*5)\n",
        "print(10/5)\n"
      ],
      "metadata": {
        "colab": {
          "base_uri": "https://localhost:8080/"
        },
        "id": "j3swSo7F4iK2",
        "outputId": "c6e995ff-326b-4075-a113-29f12b466887"
      },
      "execution_count": 30,
      "outputs": [
        {
          "output_type": "stream",
          "name": "stdout",
          "text": [
            "15\n",
            "5\n",
            "50\n",
            "2.0\n"
          ]
        }
      ]
    },
    {
      "cell_type": "code",
      "source": [
        "p=60\n",
        "b=13\n",
        "p<<1"
      ],
      "metadata": {
        "colab": {
          "base_uri": "https://localhost:8080/"
        },
        "id": "FHFO32z374Zu",
        "outputId": "2c70fe05-4566-497b-c05f-3f7ad96920a8"
      },
      "execution_count": 31,
      "outputs": [
        {
          "output_type": "execute_result",
          "data": {
            "text/plain": [
              "120"
            ]
          },
          "metadata": {},
          "execution_count": 31
        }
      ]
    },
    {
      "cell_type": "markdown",
      "source": [
        "python pssignment Operptors"
      ],
      "metadata": {
        "id": "k_noRdd297l8"
      }
    },
    {
      "cell_type": "code",
      "source": [
        "x = 1 \n",
        "x+=3\n",
        "\n",
        "print(x)\n",
        "\n",
        "x = 1\n",
        "x -=3\n",
        "\n",
        "print(x)"
      ],
      "metadata": {
        "colab": {
          "base_uri": "https://localhost:8080/"
        },
        "id": "iPPZCgi9-YW0",
        "outputId": "96b625c4-a177-4a16-a93a-51a89bf9a9be"
      },
      "execution_count": 35,
      "outputs": [
        {
          "output_type": "stream",
          "name": "stdout",
          "text": [
            "4\n",
            "-2\n"
          ]
        }
      ]
    },
    {
      "cell_type": "markdown",
      "source": [
        "Logicpl Operptors"
      ],
      "metadata": {
        "id": "vmppO0hHAfN7"
      }
    },
    {
      "cell_type": "code",
      "source": [
        "x= True\n",
        "y= True"
      ],
      "metadata": {
        "id": "FvIB0-CkAei8"
      },
      "execution_count": 36,
      "outputs": []
    },
    {
      "cell_type": "code",
      "source": [
        "print(x pnd y)\n",
        "print(x or y)\n",
        "print(not(x or y))"
      ],
      "metadata": {
        "colab": {
          "base_uri": "https://localhost:8080/"
        },
        "id": "rJeH3lbTAoVc",
        "outputId": "2632f368-462a-4179-f309-7640c1d0acbb"
      },
      "execution_count": 40,
      "outputs": [
        {
          "output_type": "stream",
          "name": "stdout",
          "text": [
            "False\n",
            "True\n",
            "False\n"
          ]
        }
      ]
    },
    {
      "cell_type": "markdown",
      "source": [
        "Identity Operptors"
      ],
      "metadata": {
        "id": "k_pDNeHBBJG0"
      }
    },
    {
      "cell_type": "code",
      "source": [
        "print (x is y)\n",
        "x is not y"
      ],
      "metadata": {
        "colab": {
          "base_uri": "https://localhost:8080/"
        },
        "id": "o4JyNGIRBIZU",
        "outputId": "fdd6ec90-35cd-44ee-c7b3-a48bdfe3024b"
      },
      "execution_count": 44,
      "outputs": [
        {
          "output_type": "stream",
          "name": "stdout",
          "text": [
            "False\n"
          ]
        },
        {
          "output_type": "execute_result",
          "data": {
            "text/plain": [
              "True"
            ]
          },
          "metadata": {},
          "execution_count": 44
        }
      ]
    },
    {
      "cell_type": "markdown",
      "source": [
        "Application 1 Create a Arithmetic Calculator"
      ],
      "metadata": {
        "id": "ZXzeifUEKEvh"
      }
    },
    {
      "cell_type": "code",
      "source": [
        "print(\"Basic Calculator using Python\")\n",
        "print(\"Input your First Number: \")\n",
        "x = int(input())\n",
        "print(\"Input Second Number: \")\n",
        "y = int(input())\n",
        "\n",
        "print(\"Answer: \")\n",
        "\n",
        "print(x*y)\n",
        "print(x/y)\n",
        "print(x+y)\n",
        "print(x-y)"
      ],
      "metadata": {
        "colab": {
          "base_uri": "https://localhost:8080/"
        },
        "id": "o5AvoZgdCq6j",
        "outputId": "c00575e2-2269-4a14-c9a2-0439e29f43e2"
      },
      "execution_count": 68,
      "outputs": [
        {
          "output_type": "stream",
          "name": "stdout",
          "text": [
            "Basic Calculator using Python\n",
            "Input your First Number: \n",
            "1\n",
            "Input Second Number: \n",
            "2\n",
            "Answer: \n",
            "2\n",
            "0.5\n",
            "3\n",
            "-1\n"
          ]
        }
      ]
    }
  ]
}