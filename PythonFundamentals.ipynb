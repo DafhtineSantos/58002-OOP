{
  "nbformat": 4,
  "nbformat_minor": 0,
  "metadata": {
    "colab": {
      "provenance": [],
      "authorship_tag": "ABX9TyMfeQLYYqrkV6LHXX7rZF7X",
      "include_colab_link": true
    },
    "kernelspec": {
      "name": "python3",
      "display_name": "Python 3"
    },
    "language_info": {
      "name": "python"
    }
  },
  "cells": [
    {
      "cell_type": "markdown",
      "metadata": {
        "id": "view-in-github",
        "colab_type": "text"
      },
      "source": [
        "<a href=\"https://colab.research.google.com/github/DafhtineSantos/58002-OOP/blob/main/PythonFundamentals.ipynb\" target=\"_parent\"><img src=\"https://colab.research.google.com/assets/colab-badge.svg\" alt=\"Open In Colab\"/></a>"
      ]
    },
    {
      "cell_type": "code",
      "execution_count": null,
      "metadata": {
        "id": "3QKImyRfzRuB"
      },
      "outputs": [],
      "source": [
        "#Single Variable\n",
        "\n",
        "X = 1\n",
        "Y = 2\n",
        "\n",
        "print(X)\n",
        "print(Y)\n",
        "\n",
        "\n",
        "\n",
        "#Multiple Variable\n",
        "a = b = c = \"Santos\"\n",
        "\n",
        "print (a)\n",
        "print (b)\n",
        "print (c)\n",
        "\n",
        "#Multiple variable with multiple values\n",
        "\n",
        "e, f, g = 1,2,3\n",
        "print(e)\n",
        "print(f)\n",
        "print(g)\n",
        "\n",
        "V = \"Dafhtine\"\n",
        "U = \"Santos\"\n",
        "\n",
        "print(V)\n",
        "print(U)\n",
        "\n",
        "p = float(5)\n",
        "p\n",
        "\n",
        "f = \"Dafh\"\n",
        "g = 1.01\n",
        "\n",
        "print(type(f))\n",
        "print(type(g))"
      ]
    },
    {
      "cell_type": "code",
      "source": [
        "k =\" Enjoying\"\n",
        "j = \"Phyton programming is\"\n",
        "print(j + k)\n",
        "\n"
      ],
      "metadata": {
        "colab": {
          "base_uri": "https://localhost:8080/"
        },
        "id": "ERUPiS2B3JG5",
        "outputId": "60ff25e8-4e42-41bd-c663-df63d6988ea6"
      },
      "execution_count": 15,
      "outputs": [
        {
          "output_type": "stream",
          "name": "stdout",
          "text": [
            "Phyton programming is Enjoying\n"
          ]
        }
      ]
    }
  ]
}