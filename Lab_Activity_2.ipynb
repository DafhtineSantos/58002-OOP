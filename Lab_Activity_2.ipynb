{
  "nbformat": 4,
  "nbformat_minor": 0,
  "metadata": {
    "colab": {
      "provenance": [],
      "authorship_tag": "ABX9TyNk6V4vqwjFgi7Bhf/t8plB",
      "include_colab_link": true
    },
    "kernelspec": {
      "name": "python3",
      "display_name": "Python 3"
    },
    "language_info": {
      "name": "python"
    }
  },
  "cells": [
    {
      "cell_type": "markdown",
      "metadata": {
        "id": "view-in-github",
        "colab_type": "text"
      },
      "source": [
        "<a href=\"https://colab.research.google.com/github/DafhtineSantos/58002-OOP/blob/main/Lab_Activity_2.ipynb\" target=\"_parent\"><img src=\"https://colab.research.google.com/assets/colab-badge.svg\" alt=\"Open In Colab\"/></a>"
      ]
    },
    {
      "cell_type": "code",
      "execution_count": 22,
      "metadata": {
        "colab": {
          "base_uri": "https://localhost:8080/"
        },
        "id": "h0Edj_-CwBMG",
        "outputId": "19a3e91c-df6a-44c1-8751-4a32cac66184"
      },
      "outputs": [
        {
          "output_type": "stream",
          "name": "stdout",
          "text": [
            "Enter Radius: 12\n",
            "perimeter:  75.4\n",
            "area:  452.39\n"
          ]
        }
      ],
      "source": [
        "class Circle:\n",
        "  def __init__(self,radius,pi):\n",
        "    self.radius = radius\n",
        "    self.pi = pi\n",
        "\n",
        "\n",
        "  def area(self):\n",
        "    return self.pi*self.radius**2\n",
        "  def perimeter(self):\n",
        "    return 2*self.pi*self.radius\n",
        "  def result(self):\n",
        "    print(\"perimeter: \", round(self.perimeter(), 2))\n",
        "    print(\"area: \", round(self.area(),2))\n",
        "\n",
        "r = int(input(\"Enter Radius: \"))\n",
        "\n",
        "\n",
        "value = Circle(r, 3.141592653589793238)\n",
        "value.result()"
      ]
    }
  ]
}