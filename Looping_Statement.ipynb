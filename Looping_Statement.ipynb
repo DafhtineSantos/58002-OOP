{
  "nbformat": 4,
  "nbformat_minor": 0,
  "metadata": {
    "colab": {
      "provenance": [],
      "authorship_tag": "ABX9TyPC2fnIk2Y9Qn+qQYmtlusD",
      "include_colab_link": true
    },
    "kernelspec": {
      "name": "python3",
      "display_name": "Python 3"
    },
    "language_info": {
      "name": "python"
    }
  },
  "cells": [
    {
      "cell_type": "markdown",
      "metadata": {
        "id": "view-in-github",
        "colab_type": "text"
      },
      "source": [
        "<a href=\"https://colab.research.google.com/github/DafhtineSantos/58002-OOP/blob/main/Looping_Statement.ipynb\" target=\"_parent\"><img src=\"https://colab.research.google.com/assets/colab-badge.svg\" alt=\"Open In Colab\"/></a>"
      ]
    },
    {
      "cell_type": "markdown",
      "source": [
        "For Loop\n"
      ],
      "metadata": {
        "id": "LEISYsoMJlz_"
      }
    },
    {
      "cell_type": "code",
      "source": [
        "week = [\"Sunday\", \"Monday\",\"Tuesday\", \"Wednesday\", \"Thursday\", \"Friday\", \"Saturday\"]\n",
        "for x in week:\n",
        "  print(x)"
      ],
      "metadata": {
        "id": "6B96RA0VJsWv"
      },
      "execution_count": null,
      "outputs": []
    },
    {
      "cell_type": "markdown",
      "source": [
        "For Loop using Break Statement"
      ],
      "metadata": {
        "id": "0sJZssSlKaJv"
      }
    },
    {
      "cell_type": "code",
      "source": [
        "for x in week:\n",
        "  print(x)\n",
        "  if x==\"Thursday\":\n",
        "    break"
      ],
      "metadata": {
        "id": "XxnZVfmmKQrM"
      },
      "execution_count": null,
      "outputs": []
    },
    {
      "cell_type": "markdown",
      "source": [
        "To display only Thursday\n"
      ],
      "metadata": {
        "id": "r_9Q3MlbKtS8"
      }
    },
    {
      "cell_type": "code",
      "source": [
        "for x in week:\n",
        " if x==\"Thursday\":\n",
        "  print(x)\n",
        "  break\n",
        "  "
      ],
      "metadata": {
        "id": "lqFQoyJQK0Rh"
      },
      "execution_count": null,
      "outputs": []
    },
    {
      "cell_type": "markdown",
      "source": [
        "Range() Function"
      ],
      "metadata": {
        "id": "WZqwI2YOLPg6"
      }
    },
    {
      "cell_type": "code",
      "source": [
        "for x in range(6):\n",
        "  print(x)"
      ],
      "metadata": {
        "id": "qkjqAtRbLRIX"
      },
      "execution_count": null,
      "outputs": []
    },
    {
      "cell_type": "markdown",
      "source": [
        "Nested Loops"
      ],
      "metadata": {
        "id": "Q66koGUmLetz"
      }
    },
    {
      "cell_type": "code",
      "source": [
        "adjective = [\"Red\", \"Big\", \"Tasty\"]\n",
        "fruits=[\"Apple\",\"Banana\",\"Cherry\"]\n",
        "for x in adjective:\n",
        "  for y in fruits:\n",
        "    print(x,y)\n"
      ],
      "metadata": {
        "id": "bfQugryjLg0A"
      },
      "execution_count": null,
      "outputs": []
    },
    {
      "cell_type": "code",
      "source": [
        "i = 1\n",
        "while i<=6:\n",
        "  print(i)\n",
        "  i+=1\n",
        "  "
      ],
      "metadata": {
        "id": "_SLHnn6zMD6M"
      },
      "execution_count": null,
      "outputs": []
    },
    {
      "cell_type": "markdown",
      "source": [
        "While Loop using Break statement "
      ],
      "metadata": {
        "id": "NP6x6CJoqRTb"
      }
    },
    {
      "cell_type": "code",
      "source": [
        "i = 1\n",
        "while i<=6:\n",
        "  print(i)\n",
        "  if i == 3:\n",
        "    break\n",
        "  i+=1"
      ],
      "metadata": {
        "id": "ZR0xaSZYqVns"
      },
      "execution_count": null,
      "outputs": []
    },
    {
      "cell_type": "markdown",
      "source": [
        "Display only 3"
      ],
      "metadata": {
        "id": "w3PD2bGqre7A"
      }
    },
    {
      "cell_type": "code",
      "source": [
        "i = 1\n",
        "while i <= 6:\n",
        "  if i ==3:\n",
        "    print(i)\n",
        "    break\n",
        "  i+=1"
      ],
      "metadata": {
        "id": "KEithXstrgGO"
      },
      "execution_count": null,
      "outputs": []
    },
    {
      "cell_type": "markdown",
      "source": [
        "Create a Python Program that displays "
      ],
      "metadata": {
        "id": "PTI8PI9fruF6"
      }
    },
    {
      "cell_type": "code",
      "source": [
        "x = 0\n",
        "while x <= 10:\n",
        "  print(\"Hello\", x)\n",
        "  x+=1"
      ],
      "metadata": {
        "id": "TWDZTOrlrw_W"
      },
      "execution_count": null,
      "outputs": []
    }
  ]
}