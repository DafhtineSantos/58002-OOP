{
  "nbformat": 4,
  "nbformat_minor": 0,
  "metadata": {
    "colab": {
      "provenance": [],
      "authorship_tag": "ABX9TyO+ULehtM2ZX74j4g7E5Adq",
      "include_colab_link": true
    },
    "kernelspec": {
      "name": "python3",
      "display_name": "Python 3"
    },
    "language_info": {
      "name": "python"
    }
  },
  "cells": [
    {
      "cell_type": "markdown",
      "metadata": {
        "id": "view-in-github",
        "colab_type": "text"
      },
      "source": [
        "<a href=\"https://colab.research.google.com/github/DafhtineSantos/58002-OOP/blob/main/ALGORITHM_AND_FLOWCHART.ipynb\" target=\"_parent\"><img src=\"https://colab.research.google.com/assets/colab-badge.svg\" alt=\"Open In Colab\"/></a>"
      ]
    },
    {
      "cell_type": "markdown",
      "source": [
        "ALGORITHM AND FLOWCHART"
      ],
      "metadata": {
        "id": "rJS14obYzIOe"
      }
    },
    {
      "cell_type": "code",
      "execution_count": 1,
      "metadata": {
        "colab": {
          "base_uri": "https://localhost:8080/"
        },
        "id": "r7YvP3oBwyhb",
        "outputId": "9788a202-fce6-48ed-cb1e-283b1698262c"
      },
      "outputs": [
        {
          "output_type": "stream",
          "name": "stdout",
          "text": [
            "Sum =  210\n",
            "Average =  10.5\n"
          ]
        }
      ],
      "source": [
        "n = 20\n",
        "Total = n\n",
        "sum = 0\n",
        "average = 0\n",
        "\n",
        "while n>=0:\n",
        "  sum+= n\n",
        "  n-=1\n",
        "average = sum / Total\n",
        "print(\"Sum = \", sum) \n",
        "print(\"Average = \", average)"
      ]
    }
  ]
}