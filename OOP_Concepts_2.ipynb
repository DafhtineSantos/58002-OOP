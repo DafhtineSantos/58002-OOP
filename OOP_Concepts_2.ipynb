{
  "nbformat": 4,
  "nbformat_minor": 0,
  "metadata": {
    "colab": {
      "provenance": [],
      "authorship_tag": "ABX9TyO6QQribzLYwLOuBVRYgqjw",
      "include_colab_link": true
    },
    "kernelspec": {
      "name": "python3",
      "display_name": "Python 3"
    },
    "language_info": {
      "name": "python"
    }
  },
  "cells": [
    {
      "cell_type": "markdown",
      "metadata": {
        "id": "view-in-github",
        "colab_type": "text"
      },
      "source": [
        "<a href=\"https://colab.research.google.com/github/DafhtineSantos/58002-OOP/blob/main/OOP_Concepts_2.ipynb\" target=\"_parent\"><img src=\"https://colab.research.google.com/assets/colab-badge.svg\" alt=\"Open In Colab\"/></a>"
      ]
    },
    {
      "cell_type": "markdown",
      "source": [
        "Hands-on NO.1\n"
      ],
      "metadata": {
        "id": "QA5tmg7p-NLX"
      }
    },
    {
      "cell_type": "markdown",
      "source": [
        "1. Create a Python program that displays the name of three students( Student 1, Student 2 , and Student 3)\n",
        "2. Create a class name Person and attributes - std1, std2, std3, and pre, mid, fin\n",
        "3. Compute the average of each term grade using Grade() method\n",
        "4. Information about student's grades must be hidden from others."
      ],
      "metadata": {
        "id": "kRA1BWgB-6JO"
      }
    },
    {
      "cell_type": "code",
      "execution_count": 29,
      "metadata": {
        "colab": {
          "base_uri": "https://localhost:8080/"
        },
        "id": "Iicu9OAB90eX",
        "outputId": "9b3f110c-b08c-48ab-b83b-0c4bd3821e33"
      },
      "outputs": [
        {
          "output_type": "stream",
          "name": "stdout",
          "text": [
            "Student1\n",
            "Enter Prelim: 80\n",
            "Enter Midter: 90\n",
            "Enter Finals: 90\n",
            "Student2\n",
            "Enter Prelim: 89\n",
            "Enter Midter: 90\n",
            "Enter Finals: 91\n",
            "Student3\n",
            "Enter Prelim: 78\n",
            "Enter Midter: 86\n",
            "Enter Finals: 89\n",
            "Information about student's grade must be hidden from others\n",
            "Student 1 have 80 for prelims, 90 for midterms, and 90 for finals with an average of 86.66666666666667\n",
            "Student 2 have 89 for prelims, 90 for midterms, and 91 for finals with an average of 90.0\n",
            "Student 3 have 78 for prelims, 86 for midterms, and 89 for finals with an average of 84.33333333333333\n"
          ]
        }
      ],
      "source": [
        "class Person:\n",
        "  def __init__(self,student):\n",
        "    self.student = student\n",
        "    import random\n",
        "    self.__pre = int(input(\"Enter Prelim:\n",
        "     \"))\n",
        "    self.__mid = int(input(\"Enter Midter: \"))\n",
        "    self.__fin = int(input(\"Enter Finals: \"))\n",
        "  def Grade(self):\n",
        "    return (self.__pre+self.__mid+self.__fin)/3\n",
        "  def display(self):\n",
        "    print(f\"{self.student} have {self.__pre} for prelims, {self.__mid} for midterms, and {self.__fin} for finals with an average of {self.Grade()}\")\n",
        "\n",
        "class std1(Person):\n",
        "  def __init__(self):\n",
        "    print(\"Student1\")\n",
        "    super().__init__(\"Student 1\")\n",
        "    \n",
        "class std2(Person):\n",
        "  def __init__(self):\n",
        "    print(\"Student2\")\n",
        "    super().__init__(\"Student 2\")\n",
        "    \n",
        "class std3(Person):\n",
        "  def __init__(self):\n",
        "    print(\"Student3\")\n",
        "    super().__init__(\"Student 3\")\n",
        "    \n",
        "    print(\"Information about student's grade must be hidden from others\")\n",
        "\n",
        "Std1 = std1()\n",
        "Std2 = std2()\n",
        "Std3 = std3()\n",
        "\n",
        "Std1.display()\n",
        "Std2.display()\n",
        "Std3.display()\n"
      ]
    }
  ]
}